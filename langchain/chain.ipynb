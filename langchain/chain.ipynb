{
 "cells": [
  {
   "cell_type": "code",
   "execution_count": null,
   "metadata": {},
   "outputs": [],
   "source": [
    "%pip install python-dotenv"
   ]
  },
  {
   "attachments": {},
   "cell_type": "markdown",
   "metadata": {},
   "source": [
    "## 环境变量"
   ]
  },
  {
   "cell_type": "code",
   "execution_count": null,
   "metadata": {},
   "outputs": [],
   "source": [
    "import os\n",
    "from dotenv import load_dotenv, find_dotenv\n",
    "_ = load_dotenv(find_dotenv()) # read local .env file\n",
    "# print(os.environ)\n",
    "\n",
    "AI_TEMPERATURE=0.0\n",
    "AI_MAX_TOKENS=2048"
   ]
  },
  {
   "attachments": {},
   "cell_type": "markdown",
   "metadata": {},
   "source": [
    "## 模型加载"
   ]
  },
  {
   "cell_type": "code",
   "execution_count": null,
   "metadata": {},
   "outputs": [],
   "source": [
    "from langchain.embeddings.openai import OpenAIEmbeddings\n",
    "from langchain.llms import AzureOpenAI\n",
    "from langchain.chat_models import AzureChatOpenAI\n",
    "\n",
    "def load_azureLLM():\n",
    "    # chat\n",
    "    chat = AzureChatOpenAI(\n",
    "        deployment_name=os.environ.get('DEPLOYMENT_NAME_CHAT'),\n",
    "        temperature=AI_TEMPERATURE,\n",
    "        max_tokens=AI_MAX_TOKENS,\n",
    "        )\n",
    "    # llm\n",
    "    llm = AzureOpenAI(\n",
    "        deployment_name=os.environ.get('DEPLOYMENT_NAME_LLM'),\n",
    "        model_name=\"text-davinci-003\",\n",
    "        temperature=AI_TEMPERATURE,\n",
    "        max_tokens=AI_MAX_TOKENS,\n",
    "        )\n",
    "    \n",
    "    # embedding = OpenAIEmbeddings(deployment = os.environ.get('DEPLOYMENT_NAME_EMBEDDING'),chunk_size=1)\n",
    "    \n",
    "    return llm,chat\n",
    "\n",
    "llm,chat = load_azureLLM()"
   ]
  },
  {
   "attachments": {},
   "cell_type": "markdown",
   "metadata": {},
   "source": [
    "## Chain"
   ]
  },
  {
   "cell_type": "code",
   "execution_count": null,
   "metadata": {},
   "outputs": [],
   "source": [
    "\n",
    "from langchain.chains import LLMChain\n",
    "from langchain.chains import SequentialChain\n",
    "from langchain.prompts import ChatPromptTemplate\n",
    "\n",
    "\n",
    "person_info = \"\"\"{\n",
    "    \"gender\": \"女\",\n",
    "    \"age\": \"20岁\",\n",
    "    \"height\": \"150cm\",\n",
    "    \"weight\": \"50kg\"\n",
    "}\"\"\"\n",
    "\n",
    "\n",
    "fitness_data = \"\"\"{\n",
    "    \"action\": \"深蹲\",\n",
    "    \"timing\": \"60秒\",\n",
    "    \"count_type\": \"次数\",\n",
    "    \"count_result\": \"30次\"\n",
    "}\"\"\""
   ]
  },
  {
   "attachments": {},
   "cell_type": "markdown",
   "metadata": {},
   "source": [
    "### 顺序链"
   ]
  },
  {
   "attachments": {},
   "cell_type": "markdown",
   "metadata": {},
   "source": [
    "#### 动作评估链"
   ]
  },
  {
   "cell_type": "code",
   "execution_count": null,
   "metadata": {},
   "outputs": [],
   "source": [
    "\n",
    "evaluate_standards = \"\"\"评估维度：\\\n",
    "1. 力量：指肌肉在运动中产生的最大力量。常见的力量训练包括举重、俯卧撑、深蹲等。通过计次评估。\\\n",
    "2. 速度：指肌肉完成一定距离或动作所需时间的能力。常见的速度训练包括快速小跑、跳绳等。通过计时评估。\\\n",
    "3. 耐力：指肌肉长时间持续工作的能力。常见的耐力训练包括深蹲跳、高抬腿等。通过计次或计时评估。\\\n",
    "4. 灵敏：指肌肉对刺激的快速反应能力。常见的灵敏度训练包括跳绳、跳跃、击剑等。通过计次评估。\\\n",
    "5. 协调：指身体各部位肌肉协调运动的能力，常见的协调性训练包括瑜伽、桑巴、舞蹈等。通过计时评估。\\\n",
    "6. 稳定：指骨骼及肌肉在身体静止或运动状态下维持平衡的能力。常见的稳定性训练包括平板支撑、单脚站立等。通过计时评估。\\\n",
    "评估方法：\\\n",
    "根据动作的计次和计时数据，严格评估动作在每个维度的得分。\\\n",
    "评估得分，最低0分，最高10分。如果无法评估，则为0分。\n",
    "\"\"\"\n",
    "\n",
    "\n",
    "evaluate_prompt = ChatPromptTemplate.from_template(\n",
    "    template='您是资深的健身运动专家，请参考用户的个人信息，根据运动评估标准，严格以对用户的运动数据进行评估。\\\n",
    "        运动评估标准是：{standards},\\\n",
    "        用户的个人信息是：{person},\\\n",
    "        用户的运动数据是：{data}'\n",
    "    )\n",
    "\n",
    "\n",
    "chain_evaluate = LLMChain(llm=llm, prompt=evaluate_prompt,output_key=\"evaluate_result\")"
   ]
  },
  {
   "attachments": {},
   "cell_type": "markdown",
   "metadata": {},
   "source": [
    "#### 制定计划链"
   ]
  },
  {
   "cell_type": "code",
   "execution_count": null,
   "metadata": {},
   "outputs": [],
   "source": [
    "\n",
    "plan_prompt = ChatPromptTemplate.from_template(\n",
    "    template=\"您是资深的健身运动专家，根据用户的个人信息，以及运动评价结果，以健身计划制定标准为原则，为用户制定个性化的健身计划。\\\n",
    "        用户的个人信息是：{person},\\\n",
    "        用户的运动评价结果是：{evaluate_result}\"\n",
    "    )\n",
    "chain_plan = LLMChain(llm=llm, prompt=plan_prompt,output_key=\"plan_reslut\")\n"
   ]
  },
  {
   "attachments": {},
   "cell_type": "markdown",
   "metadata": {},
   "source": [
    "#### 动作升降阶链"
   ]
  },
  {
   "cell_type": "code",
   "execution_count": null,
   "metadata": {},
   "outputs": [],
   "source": []
  },
  {
   "attachments": {},
   "cell_type": "markdown",
   "metadata": {},
   "source": [
    "#### 自定义课程链"
   ]
  },
  {
   "cell_type": "code",
   "execution_count": null,
   "metadata": {},
   "outputs": [],
   "source": []
  },
  {
   "attachments": {},
   "cell_type": "markdown",
   "metadata": {},
   "source": [
    "#### 构建顺序链"
   ]
  },
  {
   "cell_type": "code",
   "execution_count": null,
   "metadata": {},
   "outputs": [],
   "source": [
    "\n",
    "chain = SequentialChain(chains=[chain_evaluate,chain_plan,chain_user],\n",
    "                        input_variables=[\"standards\",\"person\",\"data\"],\n",
    "                        output_variables=[\"user_result\",\"evaluate_result\",\"plan_reslut\"],\n",
    "                        verbose=True)"
   ]
  },
  {
   "attachments": {},
   "cell_type": "markdown",
   "metadata": {},
   "source": [
    "#### 执行顺序链"
   ]
  },
  {
   "cell_type": "code",
   "execution_count": null,
   "metadata": {},
   "outputs": [],
   "source": [
    "\n",
    "chain({\"standards\":evaluate_standards,\"person\":person_info,\"data\":fitness_data})"
   ]
  },
  {
   "attachments": {},
   "cell_type": "markdown",
   "metadata": {},
   "source": [
    "### Chain+Conversation"
   ]
  },
  {
   "cell_type": "code",
   "execution_count": null,
   "metadata": {},
   "outputs": [],
   "source": [
    "\n",
    "from langchain.chains import ConversationChain\n",
    "from langchain.memory import ConversationBufferMemory\n",
    "\n",
    "memory = ConversationBufferMemory()\n",
    "conversation = ConversationChain(\n",
    "    llm=llm, \n",
    "    memory = memory,\n",
    "    verbose=True\n",
    ")"
   ]
  },
  {
   "cell_type": "code",
   "execution_count": null,
   "metadata": {},
   "outputs": [],
   "source": [
    "memory.save_context(\n",
    "    {\"input\": \"你好\"},\n",
    "    {\"output\": \"我是Power，由利它团队创建？出生于2020年。\"}\n",
    ")"
   ]
  },
  {
   "cell_type": "code",
   "execution_count": null,
   "metadata": {},
   "outputs": [],
   "source": [
    "conversation.predict(input=\"你好，我想调整一下健身计划\")"
   ]
  },
  {
   "cell_type": "code",
   "execution_count": 85,
   "metadata": {},
   "outputs": [],
   "source": [
    "user_prompt = ChatPromptTemplate.from_template(\n",
    "    template=\"您需要从用户的信息中，提炼出用户的意图，并输出对应的目标。我们可以支持的目标有：\\\n",
    "        1. 动作评估\\\n",
    "        2. 调整运动计划\\\n",
    "        3. 创建自定义课程\\\n",
    "        \\\n",
    "        用户的需求是：{user_message}\"\n",
    "    )\n",
    "\n",
    "chain_user = LLMChain(llm=llm, prompt=user_prompt,output_key=\"user_reslut\")"
   ]
  },
  {
   "cell_type": "code",
   "execution_count": null,
   "metadata": {},
   "outputs": [],
   "source": [
    "prompt_infos = [\n",
    "    {\n",
    "        \"name\": \"evaluate\", \n",
    "        \"description\": \"通过严格执行运动评估标准，参考用户的个人身体数据，来评估用户的运动数据。\", \n",
    "        \"prompt_template\": evaluate_prompt\n",
    "    },\n",
    "    {\n",
    "        \"name\": \"plan\", \n",
    "        \"description\": \"根据用户的需求，参照科学严谨健身计划制定标准，调整用户的健身计划。\", \n",
    "        \"prompt_template\": plan_prompt\n",
    "    }\n",
    "]"
   ]
  }
 ],
 "metadata": {
  "kernelspec": {
   "display_name": "langchain",
   "language": "python",
   "name": "python3"
  },
  "language_info": {
   "codemirror_mode": {
    "name": "ipython",
    "version": 3
   },
   "file_extension": ".py",
   "mimetype": "text/x-python",
   "name": "python",
   "nbconvert_exporter": "python",
   "pygments_lexer": "ipython3",
   "version": "3.11.3"
  },
  "orig_nbformat": 4
 },
 "nbformat": 4,
 "nbformat_minor": 2
}
