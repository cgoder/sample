{
 "cells": [
  {
   "cell_type": "code",
   "execution_count": null,
   "metadata": {},
   "outputs": [],
   "source": [
    "\n",
    "%pip install python-dotenv"
   ]
  },
  {
   "attachments": {},
   "cell_type": "markdown",
   "metadata": {},
   "source": [
    "## 环境初始化"
   ]
  },
  {
   "cell_type": "code",
   "execution_count": null,
   "metadata": {},
   "outputs": [],
   "source": [
    "import os\n",
    "from dotenv import load_dotenv, find_dotenv\n",
    "_ = load_dotenv(find_dotenv()) # read local .env file\n",
    "# print(os.environ)\n",
    "\n",
    "# os.environ[\"OPENAI_API_TYPE\"] = os.environ.get('OPENAI_API_TYPE')\n",
    "# os.environ[\"OPENAI_API_BASE\"] = os.environ.get('OPENAI_API_BASE')\n",
    "# os.environ[\"OPENAI_API_KEY\"] = os.environ.get('OPENAI_API_KEY')\n",
    "# os.environ[\"OPENAI_API_VERSION\"] = os.environ.get('OPENAI_API_VERSION')\n",
    "\n",
    "\n",
    "AI_TEMPERATURE=0.0\n",
    "AI_MAX_TOKENS=2048"
   ]
  },
  {
   "cell_type": "code",
   "execution_count": null,
   "metadata": {},
   "outputs": [],
   "source": [
    "from langchain.chat_models import AzureChatOpenAI\n",
    "from langchain.llms import AzureOpenAI\n",
    "\n",
    "def load_azureLLM():\n",
    "    # chat\n",
    "    chat = AzureChatOpenAI(\n",
    "        deployment_name=os.environ.get('DEPLOYMENT_NAME_CHAT'),\n",
    "        temperature=AI_TEMPERATURE,\n",
    "        max_tokens=AI_MAX_TOKENS,\n",
    "        )\n",
    "    # llm\n",
    "    llm = AzureOpenAI(\n",
    "        deployment_name=os.environ.get('DEPLOYMENT_NAME_LLM'),\n",
    "        model_name=\"text-davinci-003\",\n",
    "        temperature=AI_TEMPERATURE,\n",
    "        max_tokens=AI_MAX_TOKENS,\n",
    "        )\n",
    "    \n",
    "    return llm, chat\n",
    "\n",
    "llm, chat = load_azureLLM()\n",
    "# print(llm)\n",
    "# print(chat)\n",
    "# llm(\"Tell me a joke\")"
   ]
  },
  {
   "attachments": {},
   "cell_type": "markdown",
   "metadata": {},
   "source": [
    "## 营养建议"
   ]
  },
  {
   "attachments": {},
   "cell_type": "markdown",
   "metadata": {},
   "source": [
    "### 提示模板"
   ]
  },
  {
   "cell_type": "code",
   "execution_count": 70,
   "metadata": {},
   "outputs": [
    {
     "name": "stdout",
     "output_type": "stream",
     "text": [
      "The output should be a markdown code snippet formatted in the following schema, including the leading and trailing \"```json\" and \"```\":\n",
      "\n",
      "```json\n",
      "{\n",
      "\t\"fitness_plan\": string  // 训练计划输出json格式\n",
      "\t\"nutrition_plan\": string  // 营养计划输出json格式\n",
      "}\n",
      "```\n"
     ]
    }
   ],
   "source": [
    "from langchain.output_parsers import ResponseSchema\n",
    "from langchain.output_parsers import StructuredOutputParser\n",
    "\n",
    "fitness_plan = ResponseSchema(name=\"fitness_plan\", description=\"训练计划输出json格式\")\n",
    "nutrition_plan =ResponseSchema(name=\"nutrition_plan\", description=\"营养计划输出json格式\")\n",
    "\n",
    "response_schemas = [fitness_plan, nutrition_plan]\n",
    "\n",
    "output_parser = StructuredOutputParser.from_response_schemas(response_schemas)\n",
    "format_instructions = output_parser.get_format_instructions()\n",
    "print(format_instructions)"
   ]
  },
  {
   "attachments": {},
   "cell_type": "markdown",
   "metadata": {},
   "source": [
    "### 提示信息"
   ]
  },
  {
   "cell_type": "code",
   "execution_count": 71,
   "metadata": {},
   "outputs": [],
   "source": [
    "\n",
    "\n",
    "goal = \"减脂瘦身\"\n",
    "fitness = \"\"\"{\n",
    "    \"frequency\": \"3\",\n",
    "    \"date\": \"周一、周三、周六\",\n",
    "    \"time\": \"晚上\",\n",
    "    \"equipment\": \"瑜伽垫\",\n",
    "    \"music\": \"舒缓类\",\n",
    "    \"exclude\": \"跑跳类动作\",\n",
    "    \"duration\": \"不超过20分钟\"\n",
    "}\"\"\"\n",
    "person = \"\"\"{\n",
    "    \"gender\": \"女\",\n",
    "    \"age\": \"20岁\",\n",
    "    \"height\": \"150cm\",\n",
    "    \"weight\": \"50kg\"\n",
    "}\"\"\"\n",
    "health = \"\"\"{\n",
    "    \"health\": \"良好\",\n",
    "    \"drug\": \"无\",\n",
    "    \"allergy\": \"牛奶\",\n",
    "}\"\"\"\n",
    "foods = \"\"\"{\n",
    "    \"frequency\": \"2\",\n",
    "    \"favorite \": \"香蕉\",\n",
    "    \"dislike \": \"青椒\",\n",
    "    \"allergy\": \"牛奶\"\n",
    "    \"snacks\": \"50kg\"\n",
    "}\"\"\"\n",
    "\n",
    "user_prompt_template = \"\"\"你将作为一位备受赞誉的健康与营养专家 FitnessGPT。\\\n",
    "    我希望你能根据我提供的个人信息、健康状态、健身目标、运动偏好及饮食偏好，为我定制一套个性化的饮食和运动计划。\\\n",
    "    我需要你为我详细制定运动计划。需要列出每次运动课程的动作清单。课程动作需要包括运动时间或轮次细节。\\\n",
    "    我也需要你帮我详细规划我的饮食计划，并列出一份详细的饮食清单，清单上需要包括每种食品的数量及饮食方式。\\\n",
    "    请避免任何不必要的描述性文本，以及解释性描述，只输出规划设计的计划内容。不论在什么情况下，都请保持角色设定不变。\\\n",
    "    Let's think step by step.\\\n",
    "    \n",
    "    我的个人信息: ```{private_info}```。\\\n",
    "    我的健康状态是: ```{health_info}```。\\\n",
    "    我的健身目标是: ```{fitness_goal}```。\\\n",
    "    我的运动偏好是:```{fitness_preference}```。\\\n",
    "    我的饮食偏好是: ```{fitness_foods}```。\n",
    "\n",
    "    {format_instructions}\n",
    "    \"\"\"\n"
   ]
  },
  {
   "attachments": {},
   "cell_type": "markdown",
   "metadata": {},
   "source": [
    "### 分类Chat消息\n",
    "> ChatPromptTemplate"
   ]
  },
  {
   "cell_type": "code",
   "execution_count": 72,
   "metadata": {},
   "outputs": [],
   "source": [
    "from langchain.prompts import (\n",
    "    PromptTemplate,\n",
    "    ChatPromptTemplate,\n",
    "    SystemMessagePromptTemplate,\n",
    "    AIMessagePromptTemplate,\n",
    "    HumanMessagePromptTemplate,\n",
    ")\n",
    "\n",
    "ft_prompt = PromptTemplate(\n",
    "    template=user_prompt_template,\n",
    "    input_variables=[\"private_info\",\"health_info\",\"fitness_goal\",\"fitness_preference\",\"fitness_foods\", \"format_instructions\"],\n",
    ")\n",
    "human_prompt = HumanMessagePromptTemplate(prompt=ft_prompt)\n",
    "\n",
    "# 组合prompt. System/AI/Human\n",
    "chat_prompt = ChatPromptTemplate.from_messages([human_prompt])\n",
    "\n",
    "# 格式化prompt\n",
    "human_message = chat_prompt.format_prompt(\n",
    "    private_info=person,\n",
    "    health_info=health,\n",
    "    fitness_goal=goal,\n",
    "    fitness_preference=fitness,\n",
    "    fitness_foods=foods,\n",
    "    format_instructions=format_instructions,\n",
    ").to_messages()\n",
    "# print(chat_message)\n",
    "\n",
    "ai_message = chat.predict_messages(human_message)"
   ]
  },
  {
   "cell_type": "code",
   "execution_count": 74,
   "metadata": {},
   "outputs": [
    {
     "data": {
      "text/plain": [
       "{'fitness_plan': {'Monday': {'time': '晚上',\n",
       "   'duration': '不超过20分钟',\n",
       "   'equipment': '瑜伽垫',\n",
       "   'music': '舒缓类',\n",
       "   'exclude': '跑跳类动作',\n",
       "   'exercises': ['下犬式', '平衡式', '三角式', '侧弯式', '蝴蝶式']},\n",
       "  'Wednesday': {'time': '晚上',\n",
       "   'duration': '不超过20分钟',\n",
       "   'equipment': '瑜伽垫',\n",
       "   'music': '舒缓类',\n",
       "   'exclude': '跑跳类动作',\n",
       "   'exercises': ['猫式', '树式', '战士式', '鸽子式', '蛇式']},\n",
       "  'Saturday': {'time': '晚上',\n",
       "   'duration': '不超过20分钟',\n",
       "   'equipment': '瑜伽垫',\n",
       "   'music': '舒缓类',\n",
       "   'exclude': '跑跳类动作',\n",
       "   'exercises': ['鱼式', '骆驼式', '蝎子式', '鸟式', '蛙式']}},\n",
       " 'nutrition_plan': {'Monday': {'breakfast': ['燕麦片 50g', '牛奶 200ml', '香蕉 1个'],\n",
       "   'lunch': ['鸡胸肉 100g', '西兰花 100g', '米饭 50g'],\n",
       "   'dinner': ['鲈鱼 100g', '蔬菜沙拉 100g', '面包 1片'],\n",
       "   'snack': ['苹果 1个', '坚果 20g']},\n",
       "  'Wednesday': {'breakfast': ['全麦面包 1片', '鸡蛋 1个', '牛奶 200ml'],\n",
       "   'lunch': ['瘦牛肉 100g', '蔬菜沙拉 100g', '米饭 50g'],\n",
       "   'dinner': ['鸡胸肉 100g', '蔬菜沙拉 100g', '面包 1片'],\n",
       "   'snack': ['香蕉 1个', '坚果 20g']},\n",
       "  'Saturday': {'breakfast': ['燕麦片 50g', '牛奶 200ml', '香蕉 1个'],\n",
       "   'lunch': ['瘦牛肉 100g', '蔬菜沙拉 100g', '米饭 50g'],\n",
       "   'dinner': ['鲈鱼 100g', '蔬菜沙拉 100g', '面包 1片'],\n",
       "   'snack': ['苹果 1个', '坚果 20g']}}}"
      ]
     },
     "execution_count": 74,
     "metadata": {},
     "output_type": "execute_result"
    }
   ],
   "source": [
    "# print(ai_message.content)\n",
    "ai_out_dict = output_parser.parse(ai_message.content)\n",
    "ai_out_dict"
   ]
  },
  {
   "attachments": {},
   "cell_type": "markdown",
   "metadata": {},
   "source": [
    "### 抽象Chat消息\n",
    "> ChatMessagePromptTemplate"
   ]
  },
  {
   "cell_type": "code",
   "execution_count": null,
   "metadata": {},
   "outputs": [],
   "source": [
    "from langchain.prompts import (\n",
    "    ChatMessagePromptTemplate,\n",
    ")\n",
    "\n",
    "chat_message_prompt = ChatMessagePromptTemplate.from_template(role=\"user\",template=user_prompt_template)\n",
    "chat_message = chat_message_prompt.format_messages(\n",
    "    private_info=person,\n",
    "    health_info=health,\n",
    "    fitness_goal=goal,\n",
    "    fitness_preference=fitness,\n",
    "    fitness_foods=foods,\n",
    "    format_instructions=format_instructions,\n",
    ")\n",
    "# print(chat_message)\n",
    "\n",
    "message = chat.predict_messages(chat_message)"
   ]
  },
  {
   "cell_type": "code",
   "execution_count": null,
   "metadata": {},
   "outputs": [],
   "source": [
    "print(message.content)"
   ]
  },
  {
   "cell_type": "code",
   "execution_count": 69,
   "metadata": {},
   "outputs": [
    {
     "data": {
      "text/plain": [
       "{'fitness_plan': {'Monday': {'time': '晚上',\n",
       "   'duration': '不超过20分钟',\n",
       "   'equipment': '瑜伽垫',\n",
       "   'music': '舒缓类',\n",
       "   'exclude': '跑跳类动作',\n",
       "   'exercises': ['下犬式', '平衡式', '三角式', '蝴蝶式', '猫式', '树式']},\n",
       "  'Wednesday': {'time': '晚上',\n",
       "   'duration': '不超过20分钟',\n",
       "   'equipment': '瑜伽垫',\n",
       "   'music': '舒缓类',\n",
       "   'exclude': '跑跳类动作',\n",
       "   'exercises': ['下犬式', '平衡式', '三角式', '蝴蝶式', '猫式', '树式']},\n",
       "  'Saturday': {'time': '晚上',\n",
       "   'duration': '不超过20分钟',\n",
       "   'equipment': '瑜伽垫',\n",
       "   'music': '舒缓类',\n",
       "   'exclude': '跑跳类动作',\n",
       "   'exercises': ['下犬式', '平衡式', '三角式', '蝴蝶式', '猫式', '树式']}},\n",
       " 'nutrition_plan': {'Monday': {'breakfast': [{'name': '燕麦片',\n",
       "     'quantity': '50g'},\n",
       "    {'name': '牛奶', 'quantity': '100ml', 'exclude': '牛奶'},\n",
       "    {'name': '香蕉', 'quantity': '1个'}],\n",
       "   'lunch': [{'name': '鸡胸肉', 'quantity': '100g'},\n",
       "    {'name': '西兰花', 'quantity': '100g'},\n",
       "    {'name': '米饭', 'quantity': '50g'}],\n",
       "   'dinner': [{'name': '鱼肉', 'quantity': '100g'},\n",
       "    {'name': '蔬菜沙拉', 'quantity': '100g', 'exclude': '青椒'},\n",
       "    {'name': '面包', 'quantity': '50g'}]},\n",
       "  'Wednesday': {'breakfast': [{'name': '燕麦片', 'quantity': '50g'},\n",
       "    {'name': '豆浆', 'quantity': '100ml'},\n",
       "    {'name': '香蕉', 'quantity': '1个'}],\n",
       "   'lunch': [{'name': '鸡胸肉', 'quantity': '100g'},\n",
       "    {'name': '西兰花', 'quantity': '100g'},\n",
       "    {'name': '米饭', 'quantity': '50g'}],\n",
       "   'dinner': [{'name': '鱼肉', 'quantity': '100g'},\n",
       "    {'name': '蔬菜沙拉', 'quantity': '100g', 'exclude': '青椒'},\n",
       "    {'name': '面包', 'quantity': '50g'}]},\n",
       "  'Saturday': {'breakfast': [{'name': '燕麦片', 'quantity': '50g'},\n",
       "    {'name': '豆浆', 'quantity': '100ml'},\n",
       "    {'name': '香蕉', 'quantity': '1个'}],\n",
       "   'lunch': [{'name': '鸡胸肉', 'quantity': '100g'},\n",
       "    {'name': '西兰花', 'quantity': '100g'},\n",
       "    {'name': '米饭', 'quantity': '50g'}],\n",
       "   'dinner': [{'name': '鱼肉', 'quantity': '100g'},\n",
       "    {'name': '蔬菜沙拉', 'quantity': '100g', 'exclude': '青椒'},\n",
       "    {'name': '面包', 'quantity': '50g'}]}}}"
      ]
     },
     "execution_count": 69,
     "metadata": {},
     "output_type": "execute_result"
    }
   ],
   "source": [
    "out_dict = output_parser.parse(message.content)\n",
    "out_dict"
   ]
  },
  {
   "attachments": {},
   "cell_type": "markdown",
   "metadata": {},
   "source": [
    "## 评估动作"
   ]
  },
  {
   "cell_type": "code",
   "execution_count": null,
   "metadata": {},
   "outputs": [],
   "source": [
    "from langchain.prompts import ChatPromptTemplate\n",
    "\n",
    "prompt_evaluate_action_standards = \"\"\"评估维度：\\\n",
    "1. 力量：指肌肉在运动中产生的最大力量。常见的力量训练包括举重、俯卧撑、深蹲等。通过计次评估。\\\n",
    "2. 速度：指肌肉完成一定距离或动作所需时间的能力。常见的速度训练包括快速小跑、跳绳等。通过计时评估。\\\n",
    "3. 耐力：指肌肉长时间持续工作的能力。常见的耐力训练包括深蹲跳、高抬腿等。通过计次或计时评估。\\\n",
    "4. 灵敏：指肌肉对刺激的快速反应能力。常见的灵敏度训练包括跳绳、跳跃、击剑等。通过计次评估。\\\n",
    "5. 协调：指身体各部位肌肉协调运动的能力，常见的协调性训练包括瑜伽、桑巴、舞蹈等。通过计时评估。\\\n",
    "6. 稳定：指骨骼及肌肉在身体静止或运动状态下维持平衡的能力。常见的稳定性训练包括平板支撑、单脚站立等。通过计时评估。\\\n",
    "评估方法：\\\n",
    "根据动作的计次和计时数据，严格评估动作在每个维度的得分。\\\n",
    "评估得分，最低0分，最高10分。如果无法评估，则为0分。\n",
    "\"\"\"\n",
    "\n",
    "person_info = \"\"\"{\n",
    "    \"gender\": \"女\",\n",
    "    \"age\": \"20岁\",\n",
    "    \"height\": \"150cm\",\n",
    "    \"weight\": \"50kg\"\n",
    "}\"\"\"\n",
    "fitness_data = \"\"\"{\n",
    "    \"action\": \"深蹲\",\n",
    "    \"timing\": \"60秒\",\n",
    "    \"count_type\": \"次数\",\n",
    "    \"count_result\": \"30次\"\n",
    "}\"\"\"\n",
    "\n",
    "prompt_evaluate_action = \"\"\"\n",
    "您是资深的健身运动专家，请严格以``` {standards} ```为评估标准，对用户的运动数据进行评估。\\\n",
    "请仅对用户的运动数据进行评估，不要额外评价。\\\n",
    "严格以json格式化输出下列字段:\\\n",
    "dimension:\n",
    "    score:\n",
    "    reason:\n",
    "\n",
    "Let's think step by step.\\\n",
    "\n",
    "运动数据：### {data} ###\n",
    "\"\"\"\n",
    "\n",
    "\n",
    "evaluate_template = ChatPromptTemplate.from_template(prompt_evaluate_action)\n",
    "\n",
    "evaluate_messages = evaluate_template.format_messages(\n",
    "                    standards=prompt_evaluate_action_standards,\n",
    "                    data=fitness_data,\n",
    "                    )\n",
    "\n",
    "action_evaluate = chat(evaluate_messages)\n",
    "print(action_evaluate.content)"
   ]
  },
  {
   "attachments": {},
   "cell_type": "markdown",
   "metadata": {},
   "source": [
    "## 动作升降阶"
   ]
  },
  {
   "cell_type": "code",
   "execution_count": null,
   "metadata": {},
   "outputs": [],
   "source": []
  },
  {
   "attachments": {},
   "cell_type": "markdown",
   "metadata": {},
   "source": [
    "## 修正课程"
   ]
  },
  {
   "cell_type": "code",
   "execution_count": null,
   "metadata": {},
   "outputs": [],
   "source": []
  },
  {
   "attachments": {},
   "cell_type": "markdown",
   "metadata": {},
   "source": [
    "## 课程生成"
   ]
  },
  {
   "cell_type": "code",
   "execution_count": null,
   "metadata": {},
   "outputs": [],
   "source": []
  }
 ],
 "metadata": {
  "kernelspec": {
   "display_name": "aigc",
   "language": "python",
   "name": "python3"
  },
  "language_info": {
   "codemirror_mode": {
    "name": "ipython",
    "version": 3
   },
   "file_extension": ".py",
   "mimetype": "text/x-python",
   "name": "python",
   "nbconvert_exporter": "python",
   "pygments_lexer": "ipython3",
   "version": "3.11.3"
  },
  "orig_nbformat": 4
 },
 "nbformat": 4,
 "nbformat_minor": 2
}
