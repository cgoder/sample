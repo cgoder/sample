{
 "cells": [
  {
   "cell_type": "code",
   "execution_count": 23,
   "metadata": {},
   "outputs": [
    {
     "name": "stdout",
     "output_type": "stream",
     "text": [
      "Requirement already satisfied: python-dotenv in c:\\users\\tienchiu\\mambaforge\\envs\\aigc\\lib\\site-packages (1.0.0)\n",
      "Note: you may need to restart the kernel to use updated packages.\n"
     ]
    }
   ],
   "source": [
    "%pip install python-dotenv"
   ]
  },
  {
   "attachments": {},
   "cell_type": "markdown",
   "metadata": {},
   "source": [
    "## 环境变量"
   ]
  },
  {
   "cell_type": "code",
   "execution_count": 24,
   "metadata": {},
   "outputs": [],
   "source": [
    "import os\n",
    "from dotenv import load_dotenv, find_dotenv\n",
    "_ = load_dotenv(find_dotenv()) # read local .env file\n",
    "# print(os.environ)\n",
    "\n",
    "AI_TEMPERATURE=0.0\n",
    "AI_MAX_TOKENS=2048"
   ]
  },
  {
   "attachments": {},
   "cell_type": "markdown",
   "metadata": {},
   "source": [
    "## 模型加载"
   ]
  },
  {
   "cell_type": "code",
   "execution_count": 25,
   "metadata": {},
   "outputs": [],
   "source": [
    "from langchain.embeddings.openai import OpenAIEmbeddings\n",
    "from langchain.llms import AzureOpenAI\n",
    "from langchain.chat_models import AzureChatOpenAI\n",
    "\n",
    "def load_azureLLM():\n",
    "    # chat\n",
    "    chat = AzureChatOpenAI(\n",
    "        deployment_name=os.environ.get('DEPLOYMENT_NAME_CHAT'),\n",
    "        temperature=AI_TEMPERATURE,\n",
    "        max_tokens=AI_MAX_TOKENS,\n",
    "        )\n",
    "    # llm\n",
    "    llm = AzureOpenAI(\n",
    "        deployment_name=os.environ.get('DEPLOYMENT_NAME_LLM'),\n",
    "        model_name=\"text-davinci-003\",\n",
    "        temperature=AI_TEMPERATURE,\n",
    "        max_tokens=AI_MAX_TOKENS,\n",
    "        )\n",
    "    \n",
    "    embedding = OpenAIEmbeddings(deployment = os.environ.get('DEPLOYMENT_NAME_EMBEDDING'),chunk_size=1)\n",
    "    \n",
    "    return llm,chat,embedding\n",
    "\n",
    "llm,chat,embed = load_azureLLM()"
   ]
  },
  {
   "cell_type": "code",
   "execution_count": 26,
   "metadata": {},
   "outputs": [],
   "source": [
    "from langchain.agents import load_tools\n",
    "from langchain.agents import AgentType\n",
    "from langchain.agents import initialize_agent"
   ]
  },
  {
   "cell_type": "code",
   "execution_count": 27,
   "metadata": {},
   "outputs": [],
   "source": [
    "tools = load_tools(llm=chat,\n",
    "                   tool_names=[\"llm-math\",\"serpapi\"],verbose=True)"
   ]
  },
  {
   "cell_type": "code",
   "execution_count": 28,
   "metadata": {},
   "outputs": [],
   "source": [
    "agent = initialize_agent(llm=llm,\n",
    "                         tools=tools,\n",
    "                         agent=AgentType.ZERO_SHOT_REACT_DESCRIPTION,\n",
    "                         verbose=True)"
   ]
  },
  {
   "cell_type": "code",
   "execution_count": 29,
   "metadata": {},
   "outputs": [
    {
     "name": "stderr",
     "output_type": "stream",
     "text": [
      "Error in on_chain_start callback: 'name'\n"
     ]
    },
    {
     "name": "stdout",
     "output_type": "stream",
     "text": [
      "\u001b[32;1m\u001b[1;3m I need to find out who the current president of the US is and how old his wife is.\n",
      "Action: Search\n",
      "Action Input: \"current president of the US\"\u001b[0m\n",
      "Observation: \u001b[33;1m\u001b[1;3mJoe Biden\u001b[0m\n",
      "Thought:\u001b[32;1m\u001b[1;3m I need to find out how old his wife is.\n",
      "Action: Search\n",
      "Action Input: \"age of Jill Biden\"\u001b[0m\n",
      "Observation: \u001b[33;1m\u001b[1;3m72 years\u001b[0m\n",
      "Thought:\u001b[32;1m\u001b[1;3m I now know the final answer.\n",
      "Final Answer: Joe Biden is the current president of the US and his wife, Jill Biden, is 72 years old.\u001b[0m\n",
      "\n",
      "\u001b[1m> Finished chain.\u001b[0m\n"
     ]
    },
    {
     "data": {
      "text/plain": [
       "'Joe Biden is the current president of the US and his wife, Jill Biden, is 72 years old.'"
      ]
     },
     "execution_count": 29,
     "metadata": {},
     "output_type": "execute_result"
    }
   ],
   "source": [
    "agent.run(\"美国现任总统是谁？他的夫人多少岁？\")"
   ]
  },
  {
   "cell_type": "code",
   "execution_count": 33,
   "metadata": {},
   "outputs": [],
   "source": [
    "from langchain.agents import Tool\n",
    "from langchain.agents import initialize_agent\n",
    "from langchain.agents import AgentType\n",
    "\n",
    "from langchain import Wikipedia\n",
    "\n",
    "from langchain.agents.react.base import DocstoreExplorer\n",
    "\n",
    "docstore = DocstoreExplorer(Wikipedia())\n",
    "tools = [\n",
    "    Tool(\n",
    "        name=\"Search\",\n",
    "        func=docstore.search,\n",
    "        description=\"在需要搜索时非常有用\",\n",
    "    ),\n",
    "    Tool(\n",
    "        name=\"Lookup\",\n",
    "        func=docstore.lookup,\n",
    "        description=\"在需要查询时非常有用\",\n",
    "    ),\n",
    "]"
   ]
  },
  {
   "cell_type": "code",
   "execution_count": 34,
   "metadata": {},
   "outputs": [],
   "source": [
    "react = initialize_agent(llm=llm,\n",
    "                         tools=tools,\n",
    "                         agent=AgentType.REACT_DOCSTORE,\n",
    "                         verbose=True)"
   ]
  },
  {
   "cell_type": "code",
   "execution_count": 36,
   "metadata": {},
   "outputs": [
    {
     "name": "stderr",
     "output_type": "stream",
     "text": [
      "Error in on_chain_start callback: 'name'\n"
     ]
    },
    {
     "name": "stdout",
     "output_type": "stream",
     "text": [
      "\u001b[32;1m\u001b[1;3mThought: 我需要搜索陆奇，找到他当前的工作重点。\n",
      "Action: Search[陆奇]\u001b[0m\n",
      "Observation: \u001b[36;1m\u001b[1;3mLu Qi (simplified Chinese: 陆奇; traditional Chinese: 陸奇; pinyin: Lù Qí; born September 3, 1961) is a Chinese-American software executive and engineer who is the head of MiraclePlus, a startup incubator in China. Previously, Lu was the head of Y Combinator China until it was shut down. He was formerly chief operating officer of Baidu until he stepped down in May 2018. He has served as executive vice president of Microsoft, leading development of Bing, Skype, and Microsoft Office, and software engineer and manager for Yahoo!'s search technology division.\u001b[0m\n",
      "Thought:\u001b[32;1m\u001b[1;3m 陆奇当前的工作重点是创办MiraclePlus创业孵化器。\n",
      "Action: Finish[创办MiraclePlus创业孵化器]\u001b[0m\n",
      "\n",
      "\u001b[1m> Finished chain.\u001b[0m\n"
     ]
    },
    {
     "data": {
      "text/plain": [
       "'创办MiraclePlus创业孵化器'"
      ]
     },
     "execution_count": 36,
     "metadata": {},
     "output_type": "execute_result"
    }
   ],
   "source": [
    "react.run(\"陆奇当前的工作重点是什么？\")"
   ]
  }
 ],
 "metadata": {
  "kernelspec": {
   "display_name": "aigc",
   "language": "python",
   "name": "python3"
  },
  "language_info": {
   "codemirror_mode": {
    "name": "ipython",
    "version": 3
   },
   "file_extension": ".py",
   "mimetype": "text/x-python",
   "name": "python",
   "nbconvert_exporter": "python",
   "pygments_lexer": "ipython3",
   "version": "3.11.3"
  },
  "orig_nbformat": 4
 },
 "nbformat": 4,
 "nbformat_minor": 2
}
